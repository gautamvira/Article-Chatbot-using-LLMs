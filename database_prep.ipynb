{
 "cells": [
  {
   "cell_type": "code",
   "execution_count": 1,
   "metadata": {},
   "outputs": [],
   "source": [
    "from langchain.document_loaders import PyPDFDirectoryLoader\n",
    "from langchain.text_splitter import RecursiveCharacterTextSplitter\n",
    "from langchain_ollama import OllamaEmbeddings\n",
    "from langchain_chroma import Chroma\n",
    "import os, shutil"
   ]
  },
  {
   "cell_type": "markdown",
   "metadata": {},
   "source": [
    "Loading pdf documents"
   ]
  },
  {
   "cell_type": "code",
   "execution_count": 2,
   "metadata": {},
   "outputs": [],
   "source": [
    "document_loader = PyPDFDirectoryLoader('./papers/')\n",
    "file = document_loader.load()"
   ]
  },
  {
   "cell_type": "markdown",
   "metadata": {},
   "source": [
    "Splitting documents into chunks"
   ]
  },
  {
   "cell_type": "code",
   "execution_count": 4,
   "metadata": {},
   "outputs": [],
   "source": [
    "splitter = RecursiveCharacterTextSplitter(chunk_size=1000,\n",
    "chunk_overlap=400, \n",
    "length_function=len,\n",
    "is_separator_regex=False,\n",
    ")\n",
    "chunks = splitter.split_documents(file)"
   ]
  },
  {
   "cell_type": "code",
   "execution_count": 5,
   "metadata": {},
   "outputs": [],
   "source": [
    "#Assigning ids to chunks from source and page+chunk number\n",
    "ids = []\n",
    "curr_page = 0\n",
    "chunk_num = 0\n",
    "for chunk in chunks:\n",
    "    source = chunk.metadata.get('source').split('\\\\')[1]\n",
    "    page = chunk.metadata.get('page')\n",
    "    if page == curr_page:\n",
    "        chunk_num += 1\n",
    "    else:\n",
    "        curr_page = page\n",
    "        chunk_num = 1\n",
    "    id = source + '-' + str(page) + ':' + str(chunk_num)\n",
    "    chunk.metadata['id'] = id\n",
    "    ids.append(id)"
   ]
  },
  {
   "cell_type": "code",
   "execution_count": 6,
   "metadata": {},
   "outputs": [],
   "source": [
    "embeddings = OllamaEmbeddings(model='nomic-embed-text')"
   ]
  },
  {
   "cell_type": "markdown",
   "metadata": {},
   "source": [
    "Creating embeddings and vector database"
   ]
  },
  {
   "cell_type": "code",
   "execution_count": 7,
   "metadata": {},
   "outputs": [],
   "source": [
    "#Clearing previous database directory\n",
    "#shutil.rmtree('database', ignore_errors=True)"
   ]
  },
  {
   "cell_type": "code",
   "execution_count": 12,
   "metadata": {},
   "outputs": [],
   "source": [
    "#Initializing database\n",
    "database = Chroma(persist_directory='./database', embedding_function=embeddings)"
   ]
  },
  {
   "cell_type": "markdown",
   "metadata": {},
   "source": [
    "Adding documents to the database"
   ]
  },
  {
   "cell_type": "code",
   "execution_count": null,
   "metadata": {},
   "outputs": [],
   "source": [
    "%%capture\n",
    "#Checking for existing entries and updating the database\n",
    "existing = database.get()['ids']\n",
    "new_chunks = []\n",
    "new_ids = []\n",
    "for chunk in chunks:\n",
    "    curr_id = chunk.metadata.get('id')\n",
    "    if curr_id not in existing:\n",
    "        new_chunks.append(chunk)\n",
    "        new_ids.append(curr_id)\n",
    "database.add_documents(new_chunks, ids=new_ids)"
   ]
  },
  {
   "cell_type": "code",
   "execution_count": 15,
   "metadata": {},
   "outputs": [],
   "source": [
    "#Creating a database directly from documents\n",
    "#database = Chroma.from_documents(documents=chunks, collection_name='papers', persist_directory='./database', embedding=embeddings)"
   ]
  }
 ],
 "metadata": {
  "kernelspec": {
   "display_name": "Python 3",
   "language": "python",
   "name": "python3"
  },
  "language_info": {
   "codemirror_mode": {
    "name": "ipython",
    "version": 3
   },
   "file_extension": ".py",
   "mimetype": "text/x-python",
   "name": "python",
   "nbconvert_exporter": "python",
   "pygments_lexer": "ipython3",
   "version": "3.12.8"
  }
 },
 "nbformat": 4,
 "nbformat_minor": 2
}
