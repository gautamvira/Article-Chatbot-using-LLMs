{
 "cells": [
  {
   "cell_type": "code",
   "execution_count": 1,
   "metadata": {},
   "outputs": [],
   "source": [
    "from langchain.prompts import ChatPromptTemplate\n",
    "from langchain_ollama import OllamaEmbeddings, OllamaLLM\n",
    "from langchain_chroma import Chroma\n",
    "\n",
    "import os, shutil"
   ]
  },
  {
   "cell_type": "markdown",
   "metadata": {},
   "source": [
    "Preparing database and emebedding for queries"
   ]
  },
  {
   "cell_type": "code",
   "execution_count": 2,
   "metadata": {},
   "outputs": [],
   "source": [
    "embeddings = OllamaEmbeddings(model='nomic-embed-text')\n",
    "database = Chroma(persist_directory='./database', embedding_function=embeddings)"
   ]
  },
  {
   "cell_type": "markdown",
   "metadata": {},
   "source": [
    "Template for prompt to LLM"
   ]
  },
  {
   "cell_type": "code",
   "execution_count": 3,
   "metadata": {},
   "outputs": [],
   "source": [
    "PROMPT_TEMPLATE = \"\"\"\n",
    "Answer the question based only on the following context: {context}\n",
    "\n",
    "---\n",
    "\n",
    "Answer the question based only on the above context: {question}\n",
    "\"\"\""
   ]
  },
  {
   "cell_type": "markdown",
   "metadata": {},
   "source": [
    "Finding relevant chunks to be fed to llm"
   ]
  },
  {
   "cell_type": "code",
   "execution_count": 4,
   "metadata": {},
   "outputs": [],
   "source": [
    "#query texts for llm\n",
    "query_text1 = 'What is Dynamic Time Warping?'\n",
    "query_text2 = 'Is deep learning popular in predictive maintenance?'\n",
    "query_text3 = 'What does Tor traffic mean and/or darknet?'\n",
    "query_text4 = 'Is it difficult to work with coolant temperature data?'\n"
   ]
  },
  {
   "cell_type": "code",
   "execution_count": 5,
   "metadata": {},
   "outputs": [],
   "source": [
    "model = OllamaLLM(model='llama3.1')"
   ]
  },
  {
   "cell_type": "markdown",
   "metadata": {},
   "source": [
    "Testing LLM with prompts"
   ]
  },
  {
   "cell_type": "code",
   "execution_count": 6,
   "metadata": {},
   "outputs": [
    {
     "name": "stdout",
     "output_type": "stream",
     "text": [
      "Dynamic Time Warping (DTW) is a technique that aligns two sequences in a non-linear way to match each other's trends [2, 24]. It is used for comparing time series or sequences without considering their indices or length.\n"
     ]
    }
   ],
   "source": [
    "results = database.similarity_search_with_relevance_scores(query_text1, k=4)\n",
    "contexts = '\\n\\n'.join([result.page_content for result, _ in results])\n",
    "template = ChatPromptTemplate.from_template(PROMPT_TEMPLATE)\n",
    "prompt = template.format(context=contexts, question=query_text1)\n",
    "response = model.invoke(prompt)\n",
    "print(response)"
   ]
  },
  {
   "cell_type": "code",
   "execution_count": 7,
   "metadata": {},
   "outputs": [
    {
     "name": "stdout",
     "output_type": "stream",
     "text": [
      "Yes, according to the text, the use of deep learning will \"gain popularity\" as newer methods are developed (such as attention mechanisms) and will enable identifying patterns over large volumes of data, increasing accuracy of predictions. However, it's also mentioned that there is a trade-off between accuracy and computational effort required by deep learning methods.\n"
     ]
    }
   ],
   "source": [
    "results = database.similarity_search_with_relevance_scores(query_text2, k=4)\n",
    "contexts = '\\n\\n'.join([result.page_content for result, _ in results])\n",
    "template = ChatPromptTemplate.from_template(PROMPT_TEMPLATE)\n",
    "prompt = template.format(context=contexts, question=query_text2)\n",
    "response = model.invoke(prompt)\n",
    "print(response)"
   ]
  },
  {
   "cell_type": "code",
   "execution_count": 8,
   "metadata": {},
   "outputs": [
    {
     "name": "stdout",
     "output_type": "stream",
     "text": [
      "According to the provided context, Tor traffic refers to network traffic that originates from or passes through the Tor network, which is used for anonymous communication. The Darknet specifically refers to the part of the internet address space that does not interact with other computers in the world, often associated with illegal activities due to its anonymity features.\n",
      "['TAVo_Tor_Application_Detection_with_Voting_Critic.pdf-1:7', 'TAVo_Tor_Application_Detection_with_Voting_Critic.pdf-1:6', 'TAVo_Tor_Application_Detection_with_Voting_Critic.pdf-1:5', 'TAVo_Tor_Application_Detection_with_Voting_Critic.pdf-3:1']\n"
     ]
    }
   ],
   "source": [
    "results = database.similarity_search_with_relevance_scores(query_text3, k=4)\n",
    "sources = [result.metadata.get('id') for result, _ in results]\n",
    "contexts = '\\n\\n'.join([result.page_content for result, _ in results])\n",
    "template = ChatPromptTemplate.from_template(PROMPT_TEMPLATE)\n",
    "prompt = template.format(context=contexts, question=query_text3)\n",
    "response = model.invoke(prompt)\n",
    "print(response)\n",
    "print(sources)"
   ]
  },
  {
   "cell_type": "code",
   "execution_count": 9,
   "metadata": {},
   "outputs": [
    {
     "name": "stdout",
     "output_type": "stream",
     "text": [
      "Yes, according to the text, working with coolant temperature data was found to be particularly challenging due to its noisy and inconsistent nature. The synthetic data generated from this dataset failed to capture almost all of the temporal relations, resulting in flat and constant readings that did not accurately reflect the real data. In addition, a larger sampling value (200) was needed compared to other sensors to make the data more interpretable.\n",
      "['Vira_Gautam_2024_thesis.pdf-59:4', 'Predictive_Maintenance_by_Detection_of_Gradual_Faults_in_an_IoT-Enabled_Public_Bus.pdf-5:4', 'ACM_Journal_TOSN.pdf-9:3', 'ACM_Journal_TOSN.pdf-19:5']\n"
     ]
    }
   ],
   "source": [
    "results = database.similarity_search_with_relevance_scores(query_text4, k=4)\n",
    "sources = [result.metadata.get('id') for result, _ in results]\n",
    "contexts = '\\n\\n'.join([result.page_content for result, _ in results])\n",
    "template = ChatPromptTemplate.from_template(PROMPT_TEMPLATE)\n",
    "prompt = template.format(context=contexts, question=query_text4)\n",
    "response = model.invoke(prompt)\n",
    "print(response)\n",
    "print(sources)"
   ]
  },
  {
   "cell_type": "code",
   "execution_count": 10,
   "metadata": {},
   "outputs": [
    {
     "name": "stdout",
     "output_type": "stream",
     "text": [
      "The provided context does not mention elephants at all. It appears to be a technical paper discussing bus engine torque systems and faulty buses. Therefore, it is not possible to answer whether elephants are capable of driving based on this context.\n"
     ]
    }
   ],
   "source": [
    "results = database.similarity_search_with_relevance_scores('Are elephants capable of driving?', k=4)\n",
    "contexts = '\\n\\n'.join([result.page_content for result, _ in results])\n",
    "template = ChatPromptTemplate.from_template(PROMPT_TEMPLATE)\n",
    "prompt = template.format(context=contexts, question='Are elephants capable of driving?')\n",
    "response = model.invoke(prompt)\n",
    "print(response)"
   ]
  },
  {
   "cell_type": "code",
   "execution_count": 11,
   "metadata": {},
   "outputs": [],
   "source": [
    "#Unlink database\n",
    "database = None"
   ]
  }
 ],
 "metadata": {
  "kernelspec": {
   "display_name": "Python 3",
   "language": "python",
   "name": "python3"
  },
  "language_info": {
   "codemirror_mode": {
    "name": "ipython",
    "version": 3
   },
   "file_extension": ".py",
   "mimetype": "text/x-python",
   "name": "python",
   "nbconvert_exporter": "python",
   "pygments_lexer": "ipython3",
   "version": "3.12.8"
  }
 },
 "nbformat": 4,
 "nbformat_minor": 2
}
